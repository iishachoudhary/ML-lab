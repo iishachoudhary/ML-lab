{
  "nbformat": 4,
  "nbformat_minor": 0,
  "metadata": {
    "colab": {
      "provenance": [],
      "include_colab_link": true
    },
    "kernelspec": {
      "name": "python3",
      "display_name": "Python 3"
    }
  },
  "cells": [
    {
      "cell_type": "markdown",
      "metadata": {
        "id": "view-in-github",
        "colab_type": "text"
      },
      "source": [
        "<a href=\"https://colab.research.google.com/github/iishachoudhary/ML-lab/blob/main/Perceptron_Model_for_OR_Gate_ML_Lab07.ipynb\" target=\"_parent\"><img src=\"https://colab.research.google.com/assets/colab-badge.svg\" alt=\"Open In Colab\"/></a>"
      ]
    },
    {
      "cell_type": "code",
      "metadata": {
        "id": "qlNqSs8-nfIm"
      },
      "source": [
        "import numpy as np"
      ],
      "execution_count": null,
      "outputs": []
    },
    {
      "cell_type": "code",
      "metadata": {
        "id": "KAdzXNupm32k"
      },
      "source": [
        "class Perceptron:\n",
        "  def __init__(self, ip, lr, epochs):\n",
        "    self.w = np.zeros((ip+1,1))\n",
        "    self.lr = lr\n",
        "    self.epochs = epochs\n",
        "    self.loss_lst = []\n",
        "\n",
        "  #It is a step activation function\n",
        "  def activation(self, z):\n",
        "    return 1 if z>=0 else 0\n",
        "\n",
        "  def predict(self, x):\n",
        "    z = self.w.T.dot(x)\n",
        "    a = self.activation(z)\n",
        "    return a\n",
        "\n",
        "  def fit(self, X, Y):\n",
        "    for i in range(self.epochs):\n",
        "      L = 0\n",
        "      for j in range(Y.shape[0]):\n",
        "        x = np.insert(X[j], 0, 1)\n",
        "        x = x.reshape((3,1))\n",
        "        y = self.predict(x)\n",
        "        loss = Y[j]-y\n",
        "        L += loss**2\n",
        "        self.w += self.lr * loss * x\n",
        "      L = L/4\n",
        "      self.loss_lst.append(L)"
      ],
      "execution_count": null,
      "outputs": []
    },
    {
      "cell_type": "code",
      "metadata": {
        "id": "dGh6OQtpoddr",
        "colab": {
          "base_uri": "https://localhost:8080/"
        },
        "outputId": "2f182385-5467-4043-b384-99390bccd36c"
      },
      "source": [
        "if __name__ == '__main__':\n",
        "  X = np.array([\n",
        "                [0,0],\n",
        "                [0,1],\n",
        "                [1,0],\n",
        "                [1,1]\n",
        "  ])\n",
        "  Y = np.array([0,1,1,1])\n",
        "\n",
        "  model = Perceptron(ip = 2, lr = 0.001, epochs = 100)\n",
        "  model.fit(X,Y)\n",
        "  print(model.w)"
      ],
      "execution_count": null,
      "outputs": [
        {
          "output_type": "stream",
          "name": "stdout",
          "text": [
            "[[-0.001]\n",
            " [ 0.001]\n",
            " [ 0.001]]\n"
          ]
        }
      ]
    },
    {
      "cell_type": "code",
      "metadata": {
        "id": "eqslZ2-uqxag",
        "colab": {
          "base_uri": "https://localhost:8080/",
          "height": 211
        },
        "outputId": "4a7d7c0a-5c56-4f5e-ae7b-934f9a96e0bc"
      },
      "source": [
        "import matplotlib.pyplot as plt\n",
        "x_axis = [int(x) for x in range(200)]\n",
        "y_axis = model.loss_lst\n",
        "plt.plot(x_axis, y_axis)\n",
        "plt.xlabel(\"iteration\")\n",
        "plt.ylabel(\"loss\")\n",
        "plt.show()"
      ],
      "execution_count": null,
      "outputs": [
        {
          "output_type": "error",
          "ename": "NameError",
          "evalue": "name 'model' is not defined",
          "traceback": [
            "\u001b[0;31m---------------------------------------------------------------------------\u001b[0m",
            "\u001b[0;31mNameError\u001b[0m                                 Traceback (most recent call last)",
            "\u001b[0;32m<ipython-input-1-84726186df51>\u001b[0m in \u001b[0;36m<cell line: 0>\u001b[0;34m()\u001b[0m\n\u001b[1;32m      1\u001b[0m \u001b[0;32mimport\u001b[0m \u001b[0mmatplotlib\u001b[0m\u001b[0;34m.\u001b[0m\u001b[0mpyplot\u001b[0m \u001b[0;32mas\u001b[0m \u001b[0mplt\u001b[0m\u001b[0;34m\u001b[0m\u001b[0;34m\u001b[0m\u001b[0m\n\u001b[1;32m      2\u001b[0m \u001b[0mx_axis\u001b[0m \u001b[0;34m=\u001b[0m \u001b[0;34m[\u001b[0m\u001b[0mint\u001b[0m\u001b[0;34m(\u001b[0m\u001b[0mx\u001b[0m\u001b[0;34m)\u001b[0m \u001b[0;32mfor\u001b[0m \u001b[0mx\u001b[0m \u001b[0;32min\u001b[0m \u001b[0mrange\u001b[0m\u001b[0;34m(\u001b[0m\u001b[0;36m1000\u001b[0m\u001b[0;34m)\u001b[0m\u001b[0;34m]\u001b[0m\u001b[0;34m\u001b[0m\u001b[0;34m\u001b[0m\u001b[0m\n\u001b[0;32m----> 3\u001b[0;31m \u001b[0my_axis\u001b[0m \u001b[0;34m=\u001b[0m \u001b[0mmodel\u001b[0m\u001b[0;34m.\u001b[0m\u001b[0mloss_lst\u001b[0m\u001b[0;34m\u001b[0m\u001b[0;34m\u001b[0m\u001b[0m\n\u001b[0m\u001b[1;32m      4\u001b[0m \u001b[0mplt\u001b[0m\u001b[0;34m.\u001b[0m\u001b[0mplot\u001b[0m\u001b[0;34m(\u001b[0m\u001b[0mx_axis\u001b[0m\u001b[0;34m,\u001b[0m \u001b[0my_axis\u001b[0m\u001b[0;34m)\u001b[0m\u001b[0;34m\u001b[0m\u001b[0;34m\u001b[0m\u001b[0m\n\u001b[1;32m      5\u001b[0m \u001b[0mplt\u001b[0m\u001b[0;34m.\u001b[0m\u001b[0mxlabel\u001b[0m\u001b[0;34m(\u001b[0m\u001b[0;34m\"iteration\"\u001b[0m\u001b[0;34m)\u001b[0m\u001b[0;34m\u001b[0m\u001b[0;34m\u001b[0m\u001b[0m\n",
            "\u001b[0;31mNameError\u001b[0m: name 'model' is not defined"
          ]
        }
      ]
    },
    {
      "cell_type": "code",
      "metadata": {
        "id": "1Jyadx37_X56"
      },
      "source": [],
      "execution_count": null,
      "outputs": []
    }
  ]
}